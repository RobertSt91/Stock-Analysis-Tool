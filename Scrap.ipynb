{
 "cells": [
  {
   "cell_type": "code",
   "execution_count": 2,
   "metadata": {},
   "outputs": [
    {
     "name": "stderr",
     "output_type": "stream",
     "text": [
      "invalid command name \"4642597504update\"\n",
      "    while executing\n",
      "\"4642597504update\"\n",
      "    (\"after\" script)\n",
      "invalid command name \"4570638592check_dpi_scaling\"\n",
      "    while executing\n",
      "\"4570638592check_dpi_scaling\"\n",
      "    (\"after\" script)\n"
     ]
    }
   ],
   "source": [
    "import tkinter\n",
    "import customtkinter  # <- import the CustomTkinter module\n",
    "\n",
    "root_tk = tkinter.Tk()  # create the Tk window like you normally do\n",
    "root_tk.geometry(\"400x240\")\n",
    "root_tk.title(\"CustomTkinter Test\")\n",
    "\n",
    "def button_function():\n",
    "    print(\"button pressed\")\n",
    "\n",
    "# Use CTkButton instead of tkinter Button\n",
    "button = customtkinter.CTkButton(master=root_tk, corner_radius=10, command=button_function)\n",
    "button.place(relx=0.5, rely=0.5, anchor=tkinter.CENTER)\n",
    "\n",
    "root_tk.mainloop()"
   ]
  },
  {
   "cell_type": "code",
   "execution_count": 2,
   "metadata": {},
   "outputs": [
    {
     "ename": "",
     "evalue": "",
     "output_type": "error",
     "traceback": [
      "\u001b[1;31mDer Kernel ist beim Ausführen von Code in der aktuellen Zelle oder einer vorherigen Zelle abgestürzt. Bitte überprüfen Sie den Code in der/den Zelle(n), um eine mögliche Fehlerursache zu identifizieren. Klicken Sie <a href='https://aka.ms/vscodeJupyterKernelCrash'>hier</a>, um weitere Informationen zu erhalten. Weitere Details finden Sie in Jupyter <a href='command:jupyter.viewOutput'>log</a>."
     ]
    }
   ],
   "source": [
    "import tkinter as tk\n",
    "\n",
    "# Create the main window\n",
    "root = tk.Tk()\n",
    "root.title(\"Tkinter Pictogram Integration\")\n",
    "\n",
    "# Load an image (replace 'icon.png' with the path to your image)\n",
    "icon_image = tk.PhotoImage(file=\"Unbenannt.png\")\n",
    "\n",
    "# Create a label widget to display the image\n",
    "image_label = tk.Label(root, image=icon_image)\n",
    "image_label.pack()\n",
    "\n",
    "# Run the Tkinter main loop\n",
    "root.mainloop()"
   ]
  }
 ],
 "metadata": {
  "kernelspec": {
   "display_name": "Python 3.11.0 64-bit",
   "language": "python",
   "name": "python3"
  },
  "language_info": {
   "codemirror_mode": {
    "name": "ipython",
    "version": 3
   },
   "file_extension": ".py",
   "mimetype": "text/x-python",
   "name": "python",
   "nbconvert_exporter": "python",
   "pygments_lexer": "ipython3",
   "version": "3.11.0"
  },
  "orig_nbformat": 4,
  "vscode": {
   "interpreter": {
    "hash": "aee8b7b246df8f9039afb4144a1f6fd8d2ca17a180786b69acc140d282b71a49"
   }
  }
 },
 "nbformat": 4,
 "nbformat_minor": 2
}
